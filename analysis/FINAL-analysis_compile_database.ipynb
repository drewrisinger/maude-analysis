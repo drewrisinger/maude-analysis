{
 "cells": [
  {
   "cell_type": "markdown",
   "metadata": {},
   "source": [
    "# Setup"
   ]
  },
  {
   "cell_type": "code",
   "execution_count": 1,
   "metadata": {},
   "outputs": [
    {
     "name": "stderr",
     "output_type": "stream",
     "text": [
      "DEBUG:root:Current working dir: D:\\WindowsSpace\\Extra Big Files\\ENME695\\maude-analysis\\analysis\n"
     ]
    }
   ],
   "source": [
    "import pandas as pd\n",
    "import numpy as np\n",
    "import src.maude_interface as maude\n",
    "import logging\n",
    "import os\n",
    "\n",
    "logging.basicConfig(level=logging.DEBUG)\n",
    "logging.debug(\"Current working dir: \" + str(os.getcwd()))\n",
    "data_folder = \"../../data/\"\n",
    "reference_folder = \"../reference/\""
   ]
  },
  {
   "cell_type": "markdown",
   "metadata": {},
   "source": [
    "# Generate Learning Data"
   ]
  },
  {
   "cell_type": "code",
   "execution_count": 2,
   "metadata": {},
   "outputs": [
    {
     "name": "stderr",
     "output_type": "stream",
     "text": [
      "DEBUG:root:Adding file foitext1996.txt to dataset\n",
      "DEBUG:root:Adding file foitext1997.txt to dataset\n",
      "DEBUG:root:Adding file foitext1998.txt to dataset\n",
      "DEBUG:root:Adding file foitext1999.txt to dataset\n",
      "DEBUG:root:Adding file foitext2000.txt to dataset\n",
      "DEBUG:root:Adding file foitext2001.txt to dataset\n",
      "DEBUG:root:Adding file foitext2002.txt to dataset\n",
      "DEBUG:root:Adding file foitext2003.txt to dataset\n",
      "DEBUG:root:Adding file foitext2004.txt to dataset\n",
      "DEBUG:root:Adding file foitext2005.txt to dataset\n",
      "DEBUG:root:Adding file foitext2006.txt to dataset\n",
      "DEBUG:root:Adding file foitext2007.txt to dataset\n",
      "DEBUG:root:Adding file foitext2008.txt to dataset\n",
      "DEBUG:root:Adding file foitext2009.txt to dataset\n",
      "DEBUG:root:Adding file foitext2010.txt to dataset\n",
      "DEBUG:root:Adding file foitext2011.txt to dataset\n",
      "DEBUG:root:Adding file foitext2012.txt to dataset\n",
      "DEBUG:root:Adding file foitext2013.txt to dataset\n",
      "DEBUG:root:Adding file foitext2014.txt to dataset\n",
      "DEBUG:root:Adding file foitext2015.txt to dataset\n",
      "DEBUG:root:Adding file foitext2016.txt to dataset\n",
      "DEBUG:root:Adding file foitext2017.txt to dataset\n",
      "DEBUG:root:Adding file foitextthru1995.txt to dataset\n"
     ]
    },
    {
     "name": "stdout",
     "output_type": "stream",
     "text": [
      "<class 'pandas.core.frame.DataFrame'>\n",
      "RangeIndex: 14816219 entries, 0 to 14816218\n",
      "Data columns (total 2 columns):\n",
      "MDR_REPORT_KEY    int64\n",
      "FOI_TEXT          object\n",
      "dtypes: int64(1), object(1)\n",
      "memory usage: 226.1+ MB\n",
      "(14816219, 2)\n"
     ]
    }
   ],
   "source": [
    "all_text_data = maude.get_all_text_data(data_folder)\n",
    "all_text_data.info()\n",
    "print(all_text_data.shape)"
   ]
  },
  {
   "cell_type": "markdown",
   "metadata": {},
   "source": [
    "Save All Text Data"
   ]
  },
  {
   "cell_type": "code",
   "execution_count": 3,
   "metadata": {},
   "outputs": [
    {
     "ename": "MemoryError",
     "evalue": "",
     "output_type": "error",
     "traceback": [
      "\u001b[1;31m---------------------------------------------------------------------------\u001b[0m",
      "\u001b[1;31mMemoryError\u001b[0m                               Traceback (most recent call last)",
      "\u001b[1;32m<ipython-input-3-2977b0f76c6a>\u001b[0m in \u001b[0;36m<module>\u001b[1;34m()\u001b[0m\n\u001b[1;32m----> 1\u001b[1;33m \u001b[0mall_text_data\u001b[0m\u001b[1;33m.\u001b[0m\u001b[0mto_pickle\u001b[0m\u001b[1;33m(\u001b[0m\u001b[0mdata_folder\u001b[0m \u001b[1;33m+\u001b[0m \u001b[1;34m\"all_text_data.pkl\"\u001b[0m\u001b[1;33m)\u001b[0m\u001b[1;33m\u001b[0m\u001b[0m\n\u001b[0m",
      "\u001b[1;32mD:\\WindowsSpace\\Extra Big Files\\ENME695\\maude-analysis\\venv\\lib\\site-packages\\pandas\\core\\generic.py\u001b[0m in \u001b[0;36mto_pickle\u001b[1;34m(self, path, compression, protocol)\u001b[0m\n\u001b[0;32m   1562\u001b[0m         \u001b[1;32mfrom\u001b[0m \u001b[0mpandas\u001b[0m\u001b[1;33m.\u001b[0m\u001b[0mio\u001b[0m\u001b[1;33m.\u001b[0m\u001b[0mpickle\u001b[0m \u001b[1;32mimport\u001b[0m \u001b[0mto_pickle\u001b[0m\u001b[1;33m\u001b[0m\u001b[0m\n\u001b[0;32m   1563\u001b[0m         return to_pickle(self, path, compression=compression,\n\u001b[1;32m-> 1564\u001b[1;33m                          protocol=protocol)\n\u001b[0m\u001b[0;32m   1565\u001b[0m \u001b[1;33m\u001b[0m\u001b[0m\n\u001b[0;32m   1566\u001b[0m     \u001b[1;32mdef\u001b[0m \u001b[0mto_clipboard\u001b[0m\u001b[1;33m(\u001b[0m\u001b[0mself\u001b[0m\u001b[1;33m,\u001b[0m \u001b[0mexcel\u001b[0m\u001b[1;33m=\u001b[0m\u001b[1;32mNone\u001b[0m\u001b[1;33m,\u001b[0m \u001b[0msep\u001b[0m\u001b[1;33m=\u001b[0m\u001b[1;32mNone\u001b[0m\u001b[1;33m,\u001b[0m \u001b[1;33m**\u001b[0m\u001b[0mkwargs\u001b[0m\u001b[1;33m)\u001b[0m\u001b[1;33m:\u001b[0m\u001b[1;33m\u001b[0m\u001b[0m\n",
      "\u001b[1;32mD:\\WindowsSpace\\Extra Big Files\\ENME695\\maude-analysis\\venv\\lib\\site-packages\\pandas\\io\\pickle.py\u001b[0m in \u001b[0;36mto_pickle\u001b[1;34m(obj, path, compression, protocol)\u001b[0m\n\u001b[0;32m     43\u001b[0m         \u001b[0mprotocol\u001b[0m \u001b[1;33m=\u001b[0m \u001b[0mpkl\u001b[0m\u001b[1;33m.\u001b[0m\u001b[0mHIGHEST_PROTOCOL\u001b[0m\u001b[1;33m\u001b[0m\u001b[0m\n\u001b[0;32m     44\u001b[0m     \u001b[1;32mtry\u001b[0m\u001b[1;33m:\u001b[0m\u001b[1;33m\u001b[0m\u001b[0m\n\u001b[1;32m---> 45\u001b[1;33m         \u001b[0mpkl\u001b[0m\u001b[1;33m.\u001b[0m\u001b[0mdump\u001b[0m\u001b[1;33m(\u001b[0m\u001b[0mobj\u001b[0m\u001b[1;33m,\u001b[0m \u001b[0mf\u001b[0m\u001b[1;33m,\u001b[0m \u001b[0mprotocol\u001b[0m\u001b[1;33m=\u001b[0m\u001b[0mprotocol\u001b[0m\u001b[1;33m)\u001b[0m\u001b[1;33m\u001b[0m\u001b[0m\n\u001b[0m\u001b[0;32m     46\u001b[0m     \u001b[1;32mfinally\u001b[0m\u001b[1;33m:\u001b[0m\u001b[1;33m\u001b[0m\u001b[0m\n\u001b[0;32m     47\u001b[0m         \u001b[1;32mfor\u001b[0m \u001b[0m_f\u001b[0m \u001b[1;32min\u001b[0m \u001b[0mfh\u001b[0m\u001b[1;33m:\u001b[0m\u001b[1;33m\u001b[0m\u001b[0m\n",
      "\u001b[1;31mMemoryError\u001b[0m: "
     ]
    }
   ],
   "source": [
    "all_text_data.to_pickle(data_folder + \"all_text_data.pkl\")"
   ]
  },
  {
   "cell_type": "markdown",
   "metadata": {},
   "source": [
    "### Stem"
   ]
  },
  {
   "cell_type": "code",
   "execution_count": null,
   "metadata": {},
   "outputs": [],
   "source": [
    "# preprocessing\n",
    "just_text = all_text_data['FOI_TEXT'].dropna()\n",
    "from textblob import TextBlob\n",
    "\n",
    "def stem_blob(input):\n",
    "    if input is not np.nan:\n",
    "        return TextBlob(\" \").join((w.stem() for w in TextBlob(input).words.lower()))\n",
    "    else:\n",
    "        return input\n",
    "\n",
    "just_text.apply(stem_blob)\n",
    "\n",
    "# Save Stemmed Data\n",
    "just_text.to_pickle(data_folder + \"just_text_stemmed.pkl\")"
   ]
  },
  {
   "cell_type": "markdown",
   "metadata": {},
   "source": [
    "# Generate ENTIRE MAUDE Database"
   ]
  },
  {
   "cell_type": "code",
   "execution_count": null,
   "metadata": {},
   "outputs": [],
   "source": [
    "# alternative to all above statements except pickle\n",
    "all_data = maude.compile_maude_database(data_folder, reference_folder, \"mdrfoiThru2017.txt\")\n",
    "all_data.to_pickle(data_folder + \"all_total_data.pkl\")"
   ]
  }
 ],
 "metadata": {
  "kernelspec": {
   "display_name": "Python 3",
   "language": "python",
   "name": "python3"
  },
  "language_info": {
   "codemirror_mode": {
    "name": "ipython",
    "version": 3
   },
   "file_extension": ".py",
   "mimetype": "text/x-python",
   "name": "python",
   "nbconvert_exporter": "python",
   "pygments_lexer": "ipython3",
   "version": "3.6.2"
  }
 },
 "nbformat": 4,
 "nbformat_minor": 1
}
