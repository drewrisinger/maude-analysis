{
 "cells": [
  {
   "cell_type": "code",
   "execution_count": 1,
   "metadata": {
    "collapsed": true
   },
   "outputs": [],
   "source": [
    "import pandas as pd\n",
    "import src.maude_interface as maude\n",
    "import logging"
   ]
  },
  {
   "cell_type": "code",
   "execution_count": 2,
   "metadata": {},
   "outputs": [],
   "source": [
    "logging.basicConfig(level=logging.DEBUG)"
   ]
  },
  {
   "cell_type": "code",
   "execution_count": 3,
   "metadata": {},
   "outputs": [
    {
     "name": "stderr",
     "output_type": "stream",
     "text": [
      "DEBUG:root:Reading file ./data/mdrfoi.txt\n"
     ]
    },
    {
     "name": "stderr",
     "output_type": "stream",
     "text": [
      "C:\\Users\\RISINGERAR1.2CE2211R26\\Documents\\GitHub\\maude-analysis\\venv\\lib\\site-packages\\IPython\\core\\interactiveshell.py:2850: DtypeWarning: Columns (33,34,35) have mixed types. Specify dtype option on import or set low_memory=False.\n  if self.run_code(code, result):\n"
     ]
    }
   ],
   "source": [
    "mdr_base = maude.maude_to_pandas(\"./data/mdrfoi.txt\")\n",
    "#foidev_test = maude.maude_to_pandas(\"./data/foidev.txt\")"
   ]
  },
  {
   "cell_type": "code",
   "execution_count": 4,
   "metadata": {},
   "outputs": [
    {
     "name": "stderr",
     "output_type": "stream",
     "text": [
      "DEBUG:root:Reading file ./data/foidev1998.txt\n"
     ]
    },
    {
     "name": "stderr",
     "output_type": "stream",
     "text": [
      "DEBUG:root:Reading file ./data/foidevproblem.txt\n"
     ]
    },
    {
     "name": "stderr",
     "output_type": "stream",
     "text": [
      "C:\\Users\\RISINGERAR1.2CE2211R26\\Documents\\GitHub\\maude-analysis\\venv\\lib\\site-packages\\IPython\\core\\interactiveshell.py:2910: DtypeWarning: Columns (1) have mixed types. Specify dtype option on import or set low_memory=False.\n  exec(code_obj, self.user_global_ns, self.user_ns)\n"
     ]
    },
    {
     "name": "stderr",
     "output_type": "stream",
     "text": [
      "DEBUG:root:Reading file ./data/deviceproblemcodes.txt\n"
     ]
    },
    {
     "name": "stderr",
     "output_type": "stream",
     "text": [
      "WARNING:root:File ./data/deviceproblemcodes.txt does not have key MDR_REPORT_KEY\n"
     ]
    }
   ],
   "source": [
    "mdr_total = maude.add_data_to_mdr(mdr_base, (\"./data/foidev1998.txt\", \"./data/foidevproblem.txt\", \"./data/deviceproblemcodes.txt\"))"
   ]
  },
  {
   "cell_type": "code",
   "execution_count": 5,
   "metadata": {},
   "outputs": [
    {
     "name": "stderr",
     "output_type": "stream",
     "text": [
      "DEBUG:root:Reading file ./reference/deviceproblemcodes.txt\n"
     ]
    }
   ],
   "source": [
    "mdr_total = pd.merge(mdr_total, maude.maude_to_pandas(\"./reference/deviceproblemcodes.txt\"), how='left', on='DEVICE_PROBLEM_CODE')"
   ]
  },
  {
   "cell_type": "code",
   "execution_count": 4,
   "metadata": {},
   "outputs": [
    {
     "ename": "NameError",
     "evalue": "name 'mdr_total' is not defined",
     "traceback": [
      "\u001b[1;31m---------------------------------------------------------------------------\u001b[0m",
      "\u001b[1;31mNameError\u001b[0m                                 Traceback (most recent call last)",
      "\u001b[1;32m<ipython-input-4-dc7f5df2d7aa>\u001b[0m in \u001b[0;36m<module>\u001b[1;34m()\u001b[0m\n\u001b[1;32m----> 1\u001b[1;33m \u001b[0mmdr_total\u001b[0m\u001b[1;33m.\u001b[0m\u001b[0mto_pickle\u001b[0m\u001b[1;33m(\u001b[0m\u001b[1;34m\"./data/mdrfoi_manual_compiled.pkl\"\u001b[0m\u001b[1;33m)\u001b[0m\u001b[1;33m\u001b[0m\u001b[0m\n\u001b[0m\u001b[0;32m      2\u001b[0m \u001b[0mprint\u001b[0m\u001b[1;33m(\u001b[0m\u001b[0mmdr_total\u001b[0m\u001b[1;33m.\u001b[0m\u001b[0mshape\u001b[0m\u001b[1;33m)\u001b[0m\u001b[1;33m\u001b[0m\u001b[0m\n\u001b[0;32m      3\u001b[0m \u001b[1;31m#print(mdr_total)\u001b[0m\u001b[1;33m\u001b[0m\u001b[1;33m\u001b[0m\u001b[0m\n",
      "\u001b[1;31mNameError\u001b[0m: name 'mdr_total' is not defined"
     ],
     "output_type": "error"
    }
   ],
   "source": [
    "mdr_total.to_pickle(\"./data/mdrfoi_manual_compiled.pkl\")\n",
    "print(mdr_total.shape)\n",
    "#print(mdr_total)"
   ]
  },
  {
   "cell_type": "code",
   "execution_count": 4,
   "metadata": {},
   "outputs": [
    {
     "name": "stderr",
     "output_type": "stream",
     "text": [
      "DEBUG:root:Constructing database from base file: ./data/mdrfoiAdd.txt\n"
     ]
    },
    {
     "name": "stderr",
     "output_type": "stream",
     "text": [
      "DEBUG:root:Reading file ./data/mdrfoiAdd.txt\n"
     ]
    },
    {
     "name": "stderr",
     "output_type": "stream",
     "text": [
      "C:\\Users\\RISINGERAR1.2CE2211R26\\Documents\\GitHub\\maude-analysis\\venv\\lib\\site-packages\\IPython\\core\\interactiveshell.py:2910: DtypeWarning: Columns (33,34,35) have mixed types. Specify dtype option on import or set low_memory=False.\n  exec(code_obj, self.user_global_ns, self.user_ns)\nDEBUG:root:Attempting to add file deviceproblemcodes.txt to dataset\n"
     ]
    },
    {
     "name": "stderr",
     "output_type": "stream",
     "text": [
      "DEBUG:root:Reading file ./data/deviceproblemcodes.txt\n"
     ]
    },
    {
     "ename": "TypeError",
     "evalue": "merge() got multiple values for argument 'how'",
     "traceback": [
      "\u001b[1;31m---------------------------------------------------------------------------\u001b[0m",
      "\u001b[1;31mTypeError\u001b[0m                                 Traceback (most recent call last)",
      "\u001b[1;32m<ipython-input-4-9cc96430ad05>\u001b[0m in \u001b[0;36m<module>\u001b[1;34m()\u001b[0m\n\u001b[1;32m----> 1\u001b[1;33m \u001b[0mmaude\u001b[0m\u001b[1;33m.\u001b[0m\u001b[0mcompile_maude_database\u001b[0m\u001b[1;33m(\u001b[0m\u001b[1;34m\"./data/\"\u001b[0m\u001b[1;33m,\u001b[0m \u001b[1;34m\"mdrfoiAdd.txt\"\u001b[0m\u001b[1;33m)\u001b[0m\u001b[1;33m\u001b[0m\u001b[0m\n\u001b[0m",
      "\u001b[1;32m~\\Documents\\GitHub\\maude-analysis\\src\\maude_interface.py\u001b[0m in \u001b[0;36mcompile_maude_database\u001b[1;34m(directory_path, base_file_name)\u001b[0m\n\u001b[0;32m     55\u001b[0m             \u001b[1;32mtry\u001b[0m\u001b[1;33m:\u001b[0m\u001b[1;33m\u001b[0m\u001b[0m\n\u001b[0;32m     56\u001b[0m                 entire_dataset.merge(entire_dataset, maude_to_pandas(os.path.join(directory_path,file)),\n\u001b[1;32m---> 57\u001b[1;33m                                      how='left', on=mdr_base_key)\n\u001b[0m\u001b[0;32m     58\u001b[0m             \u001b[1;32mexcept\u001b[0m \u001b[0mKeyError\u001b[0m\u001b[1;33m:\u001b[0m\u001b[1;33m\u001b[0m\u001b[0m\n\u001b[0;32m     59\u001b[0m                 \u001b[0mlogging\u001b[0m\u001b[1;33m.\u001b[0m\u001b[0mwarning\u001b[0m\u001b[1;33m(\u001b[0m\u001b[1;34m\"File {} does not have key {}\"\u001b[0m\u001b[1;33m.\u001b[0m\u001b[0mformat\u001b[0m\u001b[1;33m(\u001b[0m\u001b[0mfile\u001b[0m\u001b[1;33m,\u001b[0m \u001b[0mmdr_base_key\u001b[0m\u001b[1;33m)\u001b[0m\u001b[1;33m)\u001b[0m\u001b[1;33m\u001b[0m\u001b[0m\n",
      "\u001b[1;31mTypeError\u001b[0m: merge() got multiple values for argument 'how'"
     ],
     "output_type": "error"
    }
   ],
   "source": [
    "maude.compile_maude_database(\"./data/\", \"mdrfoiAdd.txt\")"
   ]
  },
  {
   "cell_type": "code",
   "execution_count": 1,
   "metadata": {},
   "outputs": [],
   "source": []
  },
  {
   "cell_type": "code",
   "execution_count": null,
   "metadata": {},
   "outputs": [],
   "source": []
  }
 ],
 "metadata": {
  "kernelspec": {
   "display_name": "Python 2",
   "language": "python",
   "name": "python2"
  },
  "language_info": {
   "codemirror_mode": {
    "name": "ipython",
    "version": 2
   },
   "file_extension": ".py",
   "mimetype": "text/x-python",
   "name": "python",
   "nbconvert_exporter": "python",
   "pygments_lexer": "ipython2",
   "version": "2.7.6"
  }
 },
 "nbformat": 4,
 "nbformat_minor": 0
}
