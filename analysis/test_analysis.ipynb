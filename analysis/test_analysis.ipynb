{
 "cells": [
  {
   "cell_type": "markdown",
   "metadata": {},
   "source": [
    "# Setup"
   ]
  },
  {
   "cell_type": "code",
   "execution_count": 6,
   "metadata": {},
   "outputs": [],
   "source": [
    "import pandas as pd\n",
    "import numpy as np\n",
    "import src.maude_interface as maude\n",
    "import logging\n",
    "\n",
    "logging.basicConfig(level=logging.DEBUG)\n",
    "data_folder = \"../data/\"\n",
    "reference_folder = \"../reference/\""
   ]
  },
  {
   "cell_type": "markdown",
   "metadata": {},
   "source": [
    "# Code used for Initial testing/development\n",
    "## Compile Database to analyze (*deprecated* in favor of maude.compile_maude_database)"
   ]
  },
  {
   "cell_type": "code",
   "execution_count": 7,
   "metadata": {},
   "outputs": [
    {
     "name": "stderr",
     "output_type": "stream",
     "text": [
      "DEBUG:root:Reading file ../data/mdrfoi.txt with dtype=str\n",
      "DEBUG:root:Reading file ../data/foidev1998.txt with dtype=str\n",
      "DEBUG:root:Reading file ../data/foidevproblem.txt with dtype=str\n",
      "DEBUG:root:Reading file ../reference/deviceproblemcodes.txt with dtype=str\n"
     ]
    }
   ],
   "source": [
    "# Tests to prove merging data and making large database.\n",
    "mdr_base = maude.maude_to_pandas(data_folder + \"mdrfoi.txt\")\n",
    "#foidev_test = maude.maude_to_pandas(\"./data/foidev.txt\")\n",
    "mdr_total = maude.add_data_to_mdr(mdr_base, (data_folder + \"foidev1998.txt\", data_folder + \"foidevproblem.txt\"))\n",
    "mdr_total = pd.merge(mdr_total, maude.maude_to_pandas(reference_folder + \"deviceproblemcodes.txt\"), how='left', on='DEVICE_PROBLEM_CODE')"
   ]
  },
  {
   "cell_type": "markdown",
   "metadata": {},
   "source": [
    "## Save Database for later"
   ]
  },
  {
   "cell_type": "code",
   "execution_count": null,
   "metadata": {},
   "outputs": [],
   "source": [
    "mdr_total.to_pickle(data_folder + \"mdrfoi_manual_compiled.pkl\")\n",
    "print(mdr_total.shape)\n",
    "print(mdr_total.columns)\n",
    "#print(mdr_total)"
   ]
  },
  {
   "cell_type": "markdown",
   "metadata": {},
   "source": [
    "## Check if a CSV File is properly formatted"
   ]
  },
  {
   "cell_type": "code",
   "execution_count": null,
   "metadata": {},
   "outputs": [],
   "source": [
    "maude.check_bad_csv(data_folder + \"excluded/foidev.txt\")"
   ]
  },
  {
   "cell_type": "code",
   "execution_count": null,
   "metadata": {
    "scrolled": true
   },
   "outputs": [],
   "source": [
    "foidev_dtype = {'MDR_REPORT_KEY': np.float32, 'DEVICE_PROBLEM_CODE': np.float32}\n",
    "foidev_df = maude.maude_to_pandas(data_folder + \"foidevproblem.txt\", np.float32)\n",
    "#print(foidev_df.dtypes)\n",
    "print(foidev_df.info())\n",
    "#foidev_df.apply(pd.to_numeric, errors='coerce', downcast='float')\n",
    "#print(foidev_df.info())\n",
    "print(foidev_df.isnull().sum())"
   ]
  },
  {
   "cell_type": "code",
   "execution_count": null,
   "metadata": {},
   "outputs": [],
   "source": [
    "del mdr_base\n",
    "del mdr_total\n",
    "del foidev_df"
   ]
  },
  {
   "cell_type": "markdown",
   "metadata": {},
   "source": [
    "# PRODUCTION CODE\n",
    "## New Way to Generate MAUDE Database"
   ]
  },
  {
   "cell_type": "code",
   "execution_count": 8,
   "metadata": {},
   "outputs": [
    {
     "name": "stderr",
     "output_type": "stream",
     "text": [
      "DEBUG:root:Constructing database from base file: ../data/mdrfoi.txt\n",
      "DEBUG:root:Reading file ../data/mdrfoi.txt with dtype=str\n",
      "DEBUG:root:Attempting to add file foidev1998.txt to dataset\n",
      "DEBUG:root:Reading file ../data/foidev1998.txt with dtype=str\n",
      "DEBUG:root:Reading file ../data/foidev1998.txt with dtype=str\n",
      "DEBUG:root:Attempting to add file foidev2012.txt to dataset\n",
      "DEBUG:root:Reading file ../data/foidev2012.txt with dtype=str\n",
      "DEBUG:root:Reading file ../data/foidev2012.txt with dtype=str\n",
      "DEBUG:root:Attempting to add file foidevproblem.txt to dataset\n",
      "DEBUG:root:Reading file ../data/foidevproblem.txt with dtype=str\n",
      "DEBUG:root:Reading file ../data/foidevproblem.txt with dtype=str\n",
      "DEBUG:root:Attempting to add file foitext1996.txt to dataset\n",
      "DEBUG:root:Reading file ../data/foitext1996.txt with dtype=str\n",
      "DEBUG:root:Reading file ../data/foitext1996.txt with dtype=str\n",
      "DEBUG:root:Attempting to add file foitext1997.txt to dataset\n",
      "DEBUG:root:Reading file ../data/foitext1997.txt with dtype=str\n",
      "DEBUG:root:Reading file ../data/foitext1997.txt with dtype=str\n",
      "DEBUG:root:Attempting to add file patientAdd.txt to dataset\n",
      "DEBUG:root:Reading file ../data/patientAdd.txt with dtype=str\n",
      "DEBUG:root:Reading file ../data/patientAdd.txt with dtype=str\n",
      "DEBUG:root:Reading file ../reference/deviceproblemcodes.txt with dtype=str\n",
      "INFO:root:Column headers: MDR_REPORT_KEY, EVENT_KEY, REPORT_NUMBER, REPORT_SOURCE_CODE, MANUFACTURER_LINK_FLAG_, NUMBER_DEVICES_IN_EVENT, NUMBER_PATIENTS_IN_EVENT, DATE_RECEIVED, ADVERSE_EVENT_FLAG, PRODUCT_PROBLEM_FLAG, DATE_REPORT, DATE_OF_EVENT, REPROCESSED_AND_REUSED_FLAG, REPORTER_OCCUPATION_CODE, HEALTH_PROFESSIONAL, INITIAL_REPORT_TO_FDA, DATE_FACILITY_AWARE, REPORT_DATE, REPORT_TO_FDA, DATE_REPORT_TO_FDA, EVENT_LOCATION, DATE_REPORT_TO_MANUFACTURER, MANUFACTURER_CONTACT_T_NAME, MANUFACTURER_CONTACT_F_NAME, MANUFACTURER_CONTACT_L_NAME, MANUFACTURER_CONTACT_STREET_1, MANUFACTURER_CONTACT_STREET_2, MANUFACTURER_CONTACT_CITY, MANUFACTURER_CONTACT_STATE, MANUFACTURER_CONTACT_ZIP_CODE, MANUFACTURER_CONTACT_ZIP_EXT, MANUFACTURER_CONTACT_COUNTRY, MANUFACTURER_CONTACT_POSTAL, MANUFACTURER_CONTACT_AREA_CODE, MANUFACTURER_CONTACT_EXCHANGE, MANUFACTURER_CONTACT_PHONE_NO, MANUFACTURER_CONTACT_EXTENSION, MANUFACTURER_CONTACT_PCOUNTRY, MANUFACTURER_CONTACT_PCITY, MANUFACTURER_CONTACT_PLOCAL, MANUFACTURER_G1_NAME, MANUFACTURER_G1_STREET_1, MANUFACTURER_G1_STREET_2, MANUFACTURER_G1_CITY, MANUFACTURER_G1_STATE_CODE, MANUFACTURER_G1_ZIP_CODE, MANUFACTURER_G1_ZIP_CODE_EXT, MANUFACTURER_G1_COUNTRY_CODE, MANUFACTURER_G1_POSTAL_CODE, DATE_MANUFACTURER_RECEIVED, DEVICE_DATE_OF_MANUFACTURE, SINGLE_USE_FLAG, REMEDIAL_ACTION, PREVIOUS_USE_CODE, REMOVAL_CORRECTION_NUMBER, EVENT_TYPE, DISTRIBUTOR_NAME, DISTRIBUTOR_ADDRESS_1, DISTRIBUTOR_ADDRESS_2, DISTRIBUTOR_CITY, DISTRIBUTOR_STATE_CODE, DISTRIBUTOR_ZIP_CODE, DISTRIBUTOR_ZIP_CODE_EXT, REPORT_TO_MANUFACTURER, MANUFACTURER_NAME, MANUFACTURER_ADDRESS_1, MANUFACTURER_ADDRESS_2, MANUFACTURER_CITY, MANUFACTURER_STATE_CODE, MANUFACTURER_ZIP_CODE, MANUFACTURER_ZIP_CODE_EXT, MANUFACTURER_COUNTRY_CODE, MANUFACTURER_POSTAL_CODE, TYPE_OF_REPORT, SOURCE_TYPE, DATE_ADDED, DATE_CHANGED\n",
      "ERROR:root:Dataset doesn't contain any device problem codes. Try a different dataset\n",
      "DEBUG:root:Final dataset shape: (148516, 77)\n",
      "Column headers: ['MDR_REPORT_KEY', 'EVENT_KEY', 'REPORT_NUMBER', 'REPORT_SOURCE_CODE', 'MANUFACTURER_LINK_FLAG_', 'NUMBER_DEVICES_IN_EVENT', 'NUMBER_PATIENTS_IN_EVENT', 'DATE_RECEIVED', 'ADVERSE_EVENT_FLAG', 'PRODUCT_PROBLEM_FLAG', 'DATE_REPORT', 'DATE_OF_EVENT', 'REPROCESSED_AND_REUSED_FLAG', 'REPORTER_OCCUPATION_CODE', 'HEALTH_PROFESSIONAL', 'INITIAL_REPORT_TO_FDA', 'DATE_FACILITY_AWARE', 'REPORT_DATE', 'REPORT_TO_FDA', 'DATE_REPORT_TO_FDA', 'EVENT_LOCATION', 'DATE_REPORT_TO_MANUFACTURER', 'MANUFACTURER_CONTACT_T_NAME', 'MANUFACTURER_CONTACT_F_NAME', 'MANUFACTURER_CONTACT_L_NAME', 'MANUFACTURER_CONTACT_STREET_1', 'MANUFACTURER_CONTACT_STREET_2', 'MANUFACTURER_CONTACT_CITY', 'MANUFACTURER_CONTACT_STATE', 'MANUFACTURER_CONTACT_ZIP_CODE', 'MANUFACTURER_CONTACT_ZIP_EXT', 'MANUFACTURER_CONTACT_COUNTRY', 'MANUFACTURER_CONTACT_POSTAL', 'MANUFACTURER_CONTACT_AREA_CODE', 'MANUFACTURER_CONTACT_EXCHANGE', 'MANUFACTURER_CONTACT_PHONE_NO', 'MANUFACTURER_CONTACT_EXTENSION', 'MANUFACTURER_CONTACT_PCOUNTRY', 'MANUFACTURER_CONTACT_PCITY', 'MANUFACTURER_CONTACT_PLOCAL', 'MANUFACTURER_G1_NAME', 'MANUFACTURER_G1_STREET_1', 'MANUFACTURER_G1_STREET_2', 'MANUFACTURER_G1_CITY', 'MANUFACTURER_G1_STATE_CODE', 'MANUFACTURER_G1_ZIP_CODE', 'MANUFACTURER_G1_ZIP_CODE_EXT', 'MANUFACTURER_G1_COUNTRY_CODE', 'MANUFACTURER_G1_POSTAL_CODE', 'DATE_MANUFACTURER_RECEIVED', 'DEVICE_DATE_OF_MANUFACTURE', 'SINGLE_USE_FLAG', 'REMEDIAL_ACTION', 'PREVIOUS_USE_CODE', 'REMOVAL_CORRECTION_NUMBER', 'EVENT_TYPE', 'DISTRIBUTOR_NAME', 'DISTRIBUTOR_ADDRESS_1', 'DISTRIBUTOR_ADDRESS_2', 'DISTRIBUTOR_CITY', 'DISTRIBUTOR_STATE_CODE', 'DISTRIBUTOR_ZIP_CODE', 'DISTRIBUTOR_ZIP_CODE_EXT', 'REPORT_TO_MANUFACTURER', 'MANUFACTURER_NAME', 'MANUFACTURER_ADDRESS_1', 'MANUFACTURER_ADDRESS_2', 'MANUFACTURER_CITY', 'MANUFACTURER_STATE_CODE', 'MANUFACTURER_ZIP_CODE', 'MANUFACTURER_ZIP_CODE_EXT', 'MANUFACTURER_COUNTRY_CODE', 'MANUFACTURER_POSTAL_CODE', 'TYPE_OF_REPORT', 'SOURCE_TYPE', 'DATE_ADDED', 'DATE_CHANGED']\n",
      "DEBUG:root:None\n"
     ]
    },
    {
     "name": "stdout",
     "output_type": "stream",
     "text": [
      "<class 'pandas.core.frame.DataFrame'>\n",
      "RangeIndex: 148516 entries, 0 to 148515\n",
      "Data columns (total 77 columns):\n",
      "MDR_REPORT_KEY                    148516 non-null object\n",
      "EVENT_KEY                         0 non-null object\n",
      "REPORT_NUMBER                     148516 non-null object\n",
      "REPORT_SOURCE_CODE                148516 non-null object\n",
      "MANUFACTURER_LINK_FLAG_           148516 non-null object\n",
      "NUMBER_DEVICES_IN_EVENT           0 non-null object\n",
      "NUMBER_PATIENTS_IN_EVENT          0 non-null object\n",
      "DATE_RECEIVED                     148516 non-null object\n",
      "ADVERSE_EVENT_FLAG                148052 non-null object\n",
      "PRODUCT_PROBLEM_FLAG              148237 non-null object\n",
      "DATE_REPORT                       148019 non-null object\n",
      "DATE_OF_EVENT                     123835 non-null object\n",
      "REPROCESSED_AND_REUSED_FLAG       148390 non-null object\n",
      "REPORTER_OCCUPATION_CODE          142238 non-null object\n",
      "HEALTH_PROFESSIONAL               142238 non-null object\n",
      "INITIAL_REPORT_TO_FDA             142238 non-null object\n",
      "DATE_FACILITY_AWARE               4478 non-null object\n",
      "REPORT_DATE                       2753 non-null object\n",
      "REPORT_TO_FDA                     148516 non-null object\n",
      "DATE_REPORT_TO_FDA                1506 non-null object\n",
      "EVENT_LOCATION                    148516 non-null object\n",
      "DATE_REPORT_TO_MANUFACTURER       2722 non-null object\n",
      "MANUFACTURER_CONTACT_T_NAME       50658 non-null object\n",
      "MANUFACTURER_CONTACT_F_NAME       139154 non-null object\n",
      "MANUFACTURER_CONTACT_L_NAME       139149 non-null object\n",
      "MANUFACTURER_CONTACT_STREET_1     143716 non-null object\n",
      "MANUFACTURER_CONTACT_STREET_2     10348 non-null object\n",
      "MANUFACTURER_CONTACT_CITY         143792 non-null object\n",
      "MANUFACTURER_CONTACT_STATE        122120 non-null object\n",
      "MANUFACTURER_CONTACT_ZIP_CODE     136490 non-null object\n",
      "MANUFACTURER_CONTACT_ZIP_EXT      32201 non-null object\n",
      "MANUFACTURER_CONTACT_COUNTRY      121896 non-null object\n",
      "MANUFACTURER_CONTACT_POSTAL       136490 non-null object\n",
      "MANUFACTURER_CONTACT_AREA_CODE    119763 non-null object\n",
      "MANUFACTURER_CONTACT_EXCHANGE     119763 non-null object\n",
      "MANUFACTURER_CONTACT_PHONE_NO     119763 non-null object\n",
      "MANUFACTURER_CONTACT_EXTENSION    1724 non-null object\n",
      "MANUFACTURER_CONTACT_PCOUNTRY     2457 non-null object\n",
      "MANUFACTURER_CONTACT_PCITY        119763 non-null object\n",
      "MANUFACTURER_CONTACT_PLOCAL       119763 non-null object\n",
      "MANUFACTURER_G1_NAME              113170 non-null object\n",
      "MANUFACTURER_G1_STREET_1          111672 non-null object\n",
      "MANUFACTURER_G1_STREET_2          19276 non-null object\n",
      "MANUFACTURER_G1_CITY              110108 non-null object\n",
      "MANUFACTURER_G1_STATE_CODE        70846 non-null object\n",
      "MANUFACTURER_G1_ZIP_CODE          99799 non-null object\n",
      "MANUFACTURER_G1_ZIP_CODE_EXT      33214 non-null object\n",
      "MANUFACTURER_G1_COUNTRY_CODE      88131 non-null object\n",
      "MANUFACTURER_G1_POSTAL_CODE       99799 non-null object\n",
      "DATE_MANUFACTURER_RECEIVED        145303 non-null object\n",
      "DEVICE_DATE_OF_MANUFACTURE        90838 non-null object\n",
      "SINGLE_USE_FLAG                   148515 non-null object\n",
      "REMEDIAL_ACTION                   4528 non-null object\n",
      "PREVIOUS_USE_CODE                 148515 non-null object\n",
      "REMOVAL_CORRECTION_NUMBER         2740 non-null object\n",
      "EVENT_TYPE                        148516 non-null object\n",
      "DISTRIBUTOR_NAME                  0 non-null object\n",
      "DISTRIBUTOR_ADDRESS_1             0 non-null object\n",
      "DISTRIBUTOR_ADDRESS_2             0 non-null object\n",
      "DISTRIBUTOR_CITY                  0 non-null object\n",
      "DISTRIBUTOR_STATE_CODE            0 non-null object\n",
      "DISTRIBUTOR_ZIP_CODE              0 non-null object\n",
      "DISTRIBUTOR_ZIP_CODE_EXT          0 non-null object\n",
      "REPORT_TO_MANUFACTURER            0 non-null object\n",
      "MANUFACTURER_NAME                 0 non-null object\n",
      "MANUFACTURER_ADDRESS_1            0 non-null object\n",
      "MANUFACTURER_ADDRESS_2            0 non-null object\n",
      "MANUFACTURER_CITY                 0 non-null object\n",
      "MANUFACTURER_STATE_CODE           0 non-null object\n",
      "MANUFACTURER_ZIP_CODE             0 non-null object\n",
      "MANUFACTURER_ZIP_CODE_EXT         0 non-null object\n",
      "MANUFACTURER_COUNTRY_CODE         0 non-null object\n",
      "MANUFACTURER_POSTAL_CODE          0 non-null object\n",
      "TYPE_OF_REPORT                    117864 non-null object\n",
      "SOURCE_TYPE                       115429 non-null object\n",
      "DATE_ADDED                        148516 non-null object\n",
      "DATE_CHANGED                      148516 non-null object\n",
      "dtypes: object(77)\n",
      "memory usage: 43.6+ MB\n"
     ]
    }
   ],
   "source": [
    "# alternative to all above statements except pickle\n",
    "all_data = maude.compile_maude_database(data_folder, reference_folder, \"mdrfoi.txt\")"
   ]
  },
  {
   "cell_type": "code",
   "execution_count": 9,
   "metadata": {},
   "outputs": [
    {
     "name": "stderr",
     "output_type": "stream",
     "text": [
      "DEBUG:root:Reading file ../reference/deviceproblemcodes.txt with dtype=str\n"
     ]
    },
    {
     "name": "stdout",
     "output_type": "stream",
     "text": [
      "       DEVICE_PROBLEM_CODE DEVICE_PROBLEM_DESCRIPTION  ERR_TYPE\n",
      "count                  988                        988       987\n",
      "unique                 988                        988         4\n",
      "top                   1556         Needle, separation  Hardware\n",
      "freq                     1                          1       619\n",
      "\n",
      "\n",
      "Problem Code categories:\n",
      "Hardware    619\n",
      "Unknown     184\n",
      "Both        103\n",
      "Software     81\n",
      "Name: ERR_TYPE, dtype: int64\n"
     ]
    }
   ],
   "source": [
    "# Tries casting a column to categories. Used for classification, like hardware/software issue\n",
    "problem_codes = maude.maude_to_pandas(reference_folder + \"deviceproblemcodes.txt\")\n",
    "problem_codes['ERR_TYPE'] = problem_codes['ERR_TYPE'].astype('category')\n",
    "print(problem_codes.describe())\n",
    "print(\"\\n\\nProblem Code categories:\\n\" + str(problem_codes['ERR_TYPE'].value_counts()))"
   ]
  },
  {
   "cell_type": "code",
   "execution_count": null,
   "metadata": {},
   "outputs": [],
   "source": []
  }
 ],
 "metadata": {
  "kernelspec": {
   "display_name": "Python 3",
   "language": "python",
   "name": "python3"
  },
  "language_info": {
   "codemirror_mode": {
    "name": "ipython",
    "version": 3
   },
   "file_extension": ".py",
   "mimetype": "text/x-python",
   "name": "python",
   "nbconvert_exporter": "python",
   "pygments_lexer": "ipython3",
   "version": "3.6.3"
  }
 },
 "nbformat": 4,
 "nbformat_minor": 1
}
