{
 "cells": [
  {
   "cell_type": "markdown",
   "metadata": {},
   "source": [
    "# Setup"
   ]
  },
  {
   "cell_type": "code",
   "execution_count": null,
   "metadata": {},
   "outputs": [],
   "source": [
    "import pandas as pd\n",
    "import numpy as np\n",
    "import src.maude_interface as maude\n",
    "import logging\n",
    "import os\n",
    "\n",
    "logging.basicConfig(level=logging.DEBUG)\n",
    "logging.debug(\"Current working dir: \" + str(os.getcwd()))\n",
    "data_folder = \"../../data/\"\n",
    "reference_folder = \"../reference/\""
   ]
  },
  {
   "cell_type": "code",
   "execution_count": null,
   "metadata": {},
   "outputs": [],
   "source": [
    "import nltk\n",
    "nltk.download('stopwords')\n",
    "nltk.download('punkt')\n",
    "\n",
    "from nltk.corpus import stopwords\n",
    "stop = stopwords.words('english')"
   ]
  },
  {
   "cell_type": "markdown",
   "metadata": {},
   "source": [
    "# Code used for Initial testing/development\n",
    "## Compile Database to analyze (*deprecated* in favor of maude.compile_maude_database)"
   ]
  },
  {
   "cell_type": "code",
   "execution_count": null,
   "metadata": {},
   "outputs": [],
   "source": [
    "mdr_base = maude.read_mdr_file(data_folder + \"mdrfoi-test.txt\")\n",
    "mdr_base.info()\n",
    "mdr_base.head()"
   ]
  },
  {
   "cell_type": "code",
   "execution_count": null,
   "metadata": {},
   "outputs": [],
   "source": [
    "# Tests to prove merging data and making large database.\n",
    "mdr_base = maude.maude_to_pandas(data_folder + \"mdrfoi-test.txt\")\n",
    "#foidev_test = maude.maude_to_pandas(\"./data/foidev.txt\")\n",
    "mdr_total = maude.add_data_to_mdr(mdr_base, (data_folder + \"foidev1998.txt\", data_folder + \"foidevproblem.txt\"))\n",
    "mdr_total = pd.merge(mdr_total, maude.maude_to_pandas(reference_folder + \"deviceproblemcodes.txt\"), how='left', on='DEVICE_PROBLEM_CODE')"
   ]
  },
  {
   "cell_type": "markdown",
   "metadata": {},
   "source": [
    "## Save Database for later"
   ]
  },
  {
   "cell_type": "code",
   "execution_count": null,
   "metadata": {},
   "outputs": [],
   "source": [
    "mdr_total.to_pickle(data_folder + \"mdrfoi_manual_compiled.pkl\")\n",
    "print(mdr_total.shape)\n",
    "print(mdr_total.columns)\n",
    "#print(mdr_total)"
   ]
  },
  {
   "cell_type": "markdown",
   "metadata": {},
   "source": [
    "## Check if a CSV File is properly formatted"
   ]
  },
  {
   "cell_type": "code",
   "execution_count": null,
   "metadata": {},
   "outputs": [],
   "source": [
    "maude.check_bad_csv(data_folder + \"excluded/foidev.txt\")"
   ]
  },
  {
   "cell_type": "code",
   "execution_count": null,
   "metadata": {
    "scrolled": true
   },
   "outputs": [],
   "source": [
    "foidev_dtype = {'MDR_REPORT_KEY': np.float32, 'DEVICE_PROBLEM_CODE': np.float32}\n",
    "foidev_df = maude.maude_to_pandas(data_folder + \"foidevproblem.txt\", np.float32)\n",
    "#print(foidev_df.dtypes)\n",
    "print(foidev_df.info())\n",
    "#foidev_df.apply(pd.to_numeric, errors='coerce', downcast='float')\n",
    "#print(foidev_df.info())\n",
    "print(foidev_df.isnull().sum())"
   ]
  },
  {
   "cell_type": "code",
   "execution_count": null,
   "metadata": {},
   "outputs": [],
   "source": [
    "del mdr_base\n",
    "del mdr_total\n",
    "del foidev_df"
   ]
  },
  {
   "cell_type": "code",
   "execution_count": null,
   "metadata": {},
   "outputs": [],
   "source": [
    "# Tries casting a column to categories. Used for classification, like hardware/software issue\n",
    "problem_codes = maude.maude_to_pandas(reference_folder + \"deviceproblemcodes.txt\")\n",
    "problem_codes['ERR_TYPE'] = problem_codes['ERR_TYPE'].astype('category')\n",
    "print(problem_codes.describe())\n",
    "print(\"\\n\\nProblem Code categories:\\n\" + str(problem_codes['ERR_TYPE'].value_counts()))"
   ]
  },
  {
   "cell_type": "markdown",
   "metadata": {},
   "source": [
    "# PRODUCTION CODE\n",
    "## New Way to Generate ENTIRE MAUDE Database"
   ]
  },
  {
   "cell_type": "code",
   "execution_count": null,
   "metadata": {},
   "outputs": [],
   "source": [
    "# alternative to all above statements except pickle\n",
    "all_data = maude.compile_maude_database(data_folder, reference_folder, \"mdrfoiThru2017.txt\")"
   ]
  },
  {
   "cell_type": "markdown",
   "metadata": {},
   "source": [
    "## Perform Learning/Analysis"
   ]
  },
  {
   "cell_type": "code",
   "execution_count": null,
   "metadata": {},
   "outputs": [],
   "source": [
    "all_text_data = maude.get_all_text_data(data_folder)\n",
    "all_text_data.info()\n",
    "print(all_text_data.shape)"
   ]
  },
  {
   "cell_type": "markdown",
   "metadata": {},
   "source": [
    "Save All Text Data"
   ]
  },
  {
   "cell_type": "code",
   "execution_count": null,
   "metadata": {},
   "outputs": [],
   "source": [
    "all_text_data.to_pickle(data_folder + \"all_text_data.pkl\")"
   ]
  },
  {
   "cell_type": "markdown",
   "metadata": {},
   "source": [
    "### Stem"
   ]
  },
  {
   "cell_type": "code",
   "execution_count": null,
   "metadata": {},
   "outputs": [],
   "source": [
    "# preprocessing\n",
    "just_text = all_text_data['FOI_TEXT'].dropna()\n",
    "from textblob import TextBlob\n",
    "\n",
    "def stem_blob(input):\n",
    "    if input is not np.nan:\n",
    "        return TextBlob(\" \").join((w.stem() for w in TextBlob(input).words.lower()))\n",
    "    else:\n",
    "        return input\n",
    "\n",
    "just_text.apply(stem_blob)"
   ]
  },
  {
   "cell_type": "markdown",
   "metadata": {},
   "source": [
    "### Save Stemmed Text"
   ]
  },
  {
   "cell_type": "code",
   "execution_count": null,
   "metadata": {},
   "outputs": [],
   "source": [
    "just_text.to_pickle(data_folder + \"just_text_stemmed.pkl\")"
   ]
  },
  {
   "cell_type": "code",
   "execution_count": null,
   "metadata": {},
   "outputs": [],
   "source": [
    "from sklearn.feature_extraction.text import CountVectorizer\n",
    "count = CountVectorizer()\n",
    "bag = count.fit_transform(just_text.values)\n",
    "print(count.vocabulary_)"
   ]
  },
  {
   "cell_type": "code",
   "execution_count": null,
   "metadata": {},
   "outputs": [],
   "source": [
    "count2 = CountVectorizer(ngram_range=(2,2))\n",
    "two_gram_bag = count2.fit_transform(just_text.values)\n",
    "import operator\n",
    "sorted_vocab = sorted(count2.vocabulary_.items(), key=operator.itemgetter(1))\n",
    "print(sorted_vocab[-100:-1])"
   ]
  },
  {
   "cell_type": "code",
   "execution_count": null,
   "metadata": {},
   "outputs": [],
   "source": [
    "blb = TextBlob(\"the PHYSICIAN SHOCKED BY ELECTROSURGICAL PENCIL.\")"
   ]
  },
  {
   "cell_type": "code",
   "execution_count": null,
   "metadata": {},
   "outputs": [],
   "source": [
    "stemmed = \" \".join([w.stem() for w in blb.words.lower()])\n",
    "print(stemmed)"
   ]
  },
  {
   "cell_type": "code",
   "execution_count": null,
   "metadata": {},
   "outputs": [],
   "source": []
  }
 ],
 "metadata": {
  "kernelspec": {
   "display_name": "Python 3",
   "language": "python",
   "name": "python3"
  },
  "language_info": {
   "codemirror_mode": {
    "name": "ipython",
    "version": 3
   },
   "file_extension": ".py",
   "mimetype": "text/x-python",
   "name": "python",
   "nbconvert_exporter": "python",
   "pygments_lexer": "ipython3",
   "version": "3.6.2"
  }
 },
 "nbformat": 4,
 "nbformat_minor": 1
}
